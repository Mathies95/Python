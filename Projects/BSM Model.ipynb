{
 "cells": [
  {
   "cell_type": "markdown",
   "id": "1467da03",
   "metadata": {},
   "source": [
    "# BSM model"
   ]
  },
  {
   "cell_type": "code",
   "execution_count": 1,
   "id": "bf1146e8",
   "metadata": {},
   "outputs": [],
   "source": [
    "#!pip install scipy\n",
    "import numpy as np\n",
    "from scipy.stats import norm"
   ]
  },
  {
   "cell_type": "code",
   "execution_count": 4,
   "id": "27b9b738",
   "metadata": {},
   "outputs": [],
   "source": [
    "S = 187.58\n",
    "X = 190\n",
    "T = 43/365 \n",
    "R = 0.05\n",
    "Vol = 0.42\n"
   ]
  },
  {
   "cell_type": "code",
   "execution_count": 5,
   "id": "1c5e5a28",
   "metadata": {},
   "outputs": [
    {
     "name": "stdout",
     "output_type": "stream",
     "text": [
      "10.34\n"
     ]
    }
   ],
   "source": [
    "def BSM (S, X, T, R, Vol, type = \"C\"):\n",
    "    d1 = (np.log(S/X) + (R + Vol**2/2)*T)/(Vol*np.sqrt(T))\n",
    "    d2 = d1 - Vol*np.sqrt(T)\n",
    "    try:\n",
    "        if type == \"C\":\n",
    "            Price = S*norm.cdf(d1,0,1)- X*np.exp(-R*T)*norm.cdf(d2,0,1)\n",
    "        elif type == \"P\":\n",
    "                X.np.exp(R*T)*norm.cdf(d2,0,1) - S*norm.cdf(d1,0,1)\n",
    "        return Price\n",
    "    except:\n",
    "        print(\"har du lavet dine parameter korrekt?\")\n",
    "        \n",
    "print(round(BSM(S, X, T, R, Vol, type = \"C\"),2))"
   ]
  },
  {
   "cell_type": "code",
   "execution_count": null,
   "id": "34001d16",
   "metadata": {},
   "outputs": [],
   "source": []
  }
 ],
 "metadata": {
  "kernelspec": {
   "display_name": "Python 3 (ipykernel)",
   "language": "python",
   "name": "python3"
  },
  "language_info": {
   "codemirror_mode": {
    "name": "ipython",
    "version": 3
   },
   "file_extension": ".py",
   "mimetype": "text/x-python",
   "name": "python",
   "nbconvert_exporter": "python",
   "pygments_lexer": "ipython3",
   "version": "3.11.5"
  }
 },
 "nbformat": 4,
 "nbformat_minor": 5
}
